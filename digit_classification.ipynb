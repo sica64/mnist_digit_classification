{
 "cells": [
  {
   "cell_type": "markdown",
   "id": "83e22bfd",
   "metadata": {},
   "source": [
    "# Import necessary modules and models."
   ]
  },
  {
   "cell_type": "code",
   "execution_count": 1,
   "id": "b65b4c36",
   "metadata": {},
   "outputs": [],
   "source": [
    "# Pytorch modules\n",
    "import torch\n",
    "import torch.nn as nn\n",
    "import torch.nn.functional as F\n",
    "\n",
    "torch.manual_seed(123)\n",
    "\n",
    "# Import model\n",
    "from model import DigitClassifierCNN\n",
    "\n",
    "digit_classifier = DigitClassifierCNN()"
   ]
  },
  {
   "cell_type": "code",
   "execution_count": 2,
   "id": "fe936c98",
   "metadata": {},
   "outputs": [
    {
     "name": "stdout",
     "output_type": "stream",
     "text": [
      "tensor([[ 0.0908,  0.0781,  0.0727, -0.0637,  0.0313,  0.0291,  0.1366,  0.0625,\n",
      "         -0.0585, -0.1560]], grad_fn=<AddmmBackward0>)\n"
     ]
    }
   ],
   "source": [
    "# try random 28x28 input\n",
    "\n",
    "# Dimensions: nSamples x nChannels x Height x Width\n",
    "# pytorch only supports mini-batches so the first dim needs to be 1\n",
    "i = torch.randn(1, 1, 28, 28)\n",
    "\n",
    "out = digit_classifier(i)\n",
    "print(out)"
   ]
  },
  {
   "cell_type": "markdown",
   "id": "d02c3ff5",
   "metadata": {},
   "source": [
    "# Data loading and exploration."
   ]
  },
  {
   "cell_type": "code",
   "execution_count": 3,
   "id": "c5c34537",
   "metadata": {},
   "outputs": [],
   "source": [
    "import torchvision\n",
    "from torchvision.transforms import v2\n",
    "from torchvision.datasets import MNIST\n",
    "from torch.utils.data import random_split, DataLoader\n",
    "\n",
    "data_transform = v2.Compose([v2.ToImage(), \n",
    "                        v2.ToDtype(torch.float32, scale=True), \n",
    "                        v2.Normalize((0.5,), (0.5,)),])\n",
    "\n",
    "data = MNIST(\"./data/\", train=True, download=True, transform=data_transform)\n",
    "train_data, val_data = torch.utils.data.random_split(data, [50000, 10000])\n",
    "test_data = MNIST(\"./data/\", train=False, download=True, transform=data_transform)\n",
    "\n",
    "train_dataloader = DataLoader(train_data, batch_size=8, shuffle=True)\n",
    "val_dataloader = DataLoader(val_data, batch_size=8, shuffle=True)\n",
    "test_dataloader = DataLoader(test_data, batch_size=8, shuffle=True)"
   ]
  },
  {
   "cell_type": "code",
   "execution_count": 4,
   "id": "87f38a88",
   "metadata": {},
   "outputs": [
    {
     "data": {
      "image/png": "[encoded data removed]",
      "text/plain": [
       "<Figure size 640x480 with 1 Axes>"
      ]
     },
     "metadata": {},
     "output_type": "display_data"
    }
   ],
   "source": [
    "import matplotlib.pyplot as plt\n",
    "import numpy as np\n",
    "\n",
    "def matplotlib_imshow(img, labels):\n",
    "    img = img.mean(dim=0)\n",
    "    img = img / 2 + 0.5     # unnormalize\n",
    "    img = img.cpu()\n",
    "    npimg = img.numpy()\n",
    "    plt.imshow(npimg) #, cmap=\"Greys\")\n",
    "    plt.title(labels)\n",
    "\n",
    "# Extract a batch of 4 images\n",
    "dataiter = iter(train_dataloader)\n",
    "images, labels = next(dataiter)\n",
    "\n",
    "# Create a grid from the images and show them\n",
    "img_grid = torchvision.utils.make_grid(images)\n",
    "matplotlib_imshow(img_grid, labels)"
   ]
  },
  {
   "cell_type": "code",
   "execution_count": 5,
   "id": "58524cee",
   "metadata": {},
   "outputs": [],
   "source": [
    "from torch.utils.tensorboard import SummaryWriter\n",
    "\n",
    "# Default log_dir argument is \"runs\" - but it's good to be specific\n",
    "# torch.utils.tensorboard.SummaryWriter is imported above\n",
    "writer = SummaryWriter('runs/mnist_digit_classification')\n",
    "\n",
    "# Write image data to TensorBoard log dir\n",
    "writer.add_image('Eight mnist digits', img_grid)\n",
    "writer.flush()\n",
    "\n",
    "# To view, start TensorBoard on the command line with:\n",
    "#   tensorboard --logdir=runs\n",
    "# ...and open a browser tab to http://localhost:6006/"
   ]
  },
  {
   "cell_type": "markdown",
   "id": "d85d320b",
   "metadata": {},
   "source": [
    "# Training loop"
   ]
  },
  {
   "cell_type": "code",
   "execution_count": 6,
   "id": "0d460f66",
   "metadata": {},
   "outputs": [
    {
     "data": {
      "text/plain": [
       "DigitClassifierCNN(\n",
       "  (transform): Compose(\n",
       "        Resize(size=[28, 28], interpolation=InterpolationMode.BILINEAR, antialias=True)\n",
       "        Grayscale(num_output_channels=1)\n",
       "  )\n",
       "  (conv1): Conv2d(1, 6, kernel_size=(3, 3), stride=(1, 1), padding=same)\n",
       "  (conv2): Conv2d(6, 16, kernel_size=(3, 3), stride=(1, 1))\n",
       "  (fc1): Linear(in_features=576, out_features=120, bias=True)\n",
       "  (fc2): Linear(in_features=120, out_features=84, bias=True)\n",
       "  (fc3): Linear(in_features=84, out_features=10, bias=True)\n",
       "  (dropout): Dropout(p=0.3, inplace=False)\n",
       ")"
      ]
     },
     "execution_count": 6,
     "metadata": {},
     "output_type": "execute_result"
    }
   ],
   "source": [
    "# Move to gpu for training if available.\n",
    "if torch.cuda.is_available(): \n",
    "    device = \"cuda:0\" \n",
    "\n",
    "digit_classifier.to(device)"
   ]
  },
  {
   "cell_type": "code",
   "execution_count": 7,
   "id": "8b8c087a",
   "metadata": {},
   "outputs": [],
   "source": [
    "import torch.optim as optim\n",
    "\n",
    "# Define optimizer and loss functions\n",
    "optimizer = optim.Adam(digit_classifier.parameters(), lr=0.001)\n",
    "# optimizer = optim.SGD(digit_classifier.parameters(), lr=0.01)\n",
    "criterion = torch.nn.CrossEntropyLoss()\n",
    "\n",
    "def train_one_epoch(epoch_index, tb_writer):\n",
    "    digit_classifier.train()\n",
    "    \n",
    "    running_loss = 0.\n",
    "    last_loss = 0.\n",
    "    \n",
    "    for i, (x, y) in enumerate(train_dataloader):\n",
    "\n",
    "        x, y = x.to(device), y.to(device)\n",
    "        \n",
    "        # Compute gradients and update for each minibatch\n",
    "        optimizer.zero_grad()   # zero the gradient buffers\n",
    "        y_hat = digit_classifier(x)\n",
    "        loss = criterion(y_hat, y)\n",
    "        loss.backward()\n",
    "        optimizer.step()    # Does the update\n",
    "        \n",
    "        # Log every 1000\n",
    "        running_loss += loss.item()\n",
    "        \n",
    "        if i % 1000 == 999:\n",
    "            last_loss = running_loss / 1000\n",
    "            print(\"    batch: {}  loss: {}\".format(i+1, last_loss))\n",
    "            \n",
    "            tb_x = epoch_index * len(train_dataloader) + i + 1\n",
    "            tb_writer.add_scalar('Loss/train', last_loss, tb_x)\n",
    "            \n",
    "            running_loss = 0.\n",
    "        \n",
    "    return last_loss"
   ]
  },
  {
   "cell_type": "code",
   "execution_count": null,
   "id": "f045b0bd",
   "metadata": {},
   "outputs": [],
   "source": []
  },
  {
   "cell_type": "code",
   "execution_count": 8,
   "id": "a9a9086a",
   "metadata": {},
   "outputs": [],
   "source": [
    "from datetime import datetime\n",
    "\n",
    "epoch_num = 0\n",
    "timestamp = datetime.now().strftime('%Y%m%d_%H%M%S')"
   ]
  },
  {
   "cell_type": "code",
   "execution_count": 19,
   "id": "0532ae67",
   "metadata": {},
   "outputs": [
    {
     "name": "stdout",
     "output_type": "stream",
     "text": [
      "EPOCH: 10\n",
      "    batch: 1000  loss: 0.06440188462060786\n",
      "    batch: 2000  loss: 0.06799878926659164\n",
      "    batch: 3000  loss: 0.06809095063517592\n",
      "    batch: 4000  loss: 0.06141328438527171\n",
      "    batch: 5000  loss: 0.06662827787950033\n",
      "    batch: 6000  loss: 0.07117332991768262\n",
      "LOSS train 0.07117332991768262 valid 0.04018488526344299\n",
      "EPOCH: 11\n",
      "    batch: 1000  loss: 0.06313737803989465\n",
      "    batch: 2000  loss: 0.05363044340095712\n",
      "    batch: 3000  loss: 0.05581689800582551\n",
      "    batch: 4000  loss: 0.06502852011568791\n",
      "    batch: 5000  loss: 0.06263650117184193\n",
      "    batch: 6000  loss: 0.06046379272576939\n",
      "LOSS train 0.06046379272576939 valid 0.04295845329761505\n",
      "EPOCH: 12\n",
      "    batch: 1000  loss: 0.05202238963546427\n",
      "    batch: 2000  loss: 0.05641709293659642\n",
      "    batch: 3000  loss: 0.06472995569740408\n",
      "    batch: 4000  loss: 0.061446205106482465\n",
      "    batch: 5000  loss: 0.06700294237079277\n",
      "    batch: 6000  loss: 0.05675468119685533\n",
      "LOSS train 0.05675468119685533 valid 0.04601527750492096\n",
      "EPOCH: 13\n",
      "    batch: 1000  loss: 0.06199713020284471\n",
      "    batch: 2000  loss: 0.06651365168496955\n",
      "    batch: 3000  loss: 0.06140928954212623\n",
      "    batch: 4000  loss: 0.05779339760520412\n",
      "    batch: 5000  loss: 0.058760997860250255\n",
      "    batch: 6000  loss: 0.058651019164010276\n",
      "LOSS train 0.058651019164010276 valid 0.03766407072544098\n",
      "EPOCH: 14\n",
      "    batch: 1000  loss: 0.0572567117496759\n",
      "    batch: 2000  loss: 0.05926257259865875\n",
      "    batch: 3000  loss: 0.06247111438737383\n",
      "    batch: 4000  loss: 0.06026845879824056\n",
      "    batch: 5000  loss: 0.05657739193890005\n",
      "    batch: 6000  loss: 0.0560816330762411\n",
      "LOSS train 0.0560816330762411 valid 0.034666042774915695\n",
      "EPOCH: 15\n",
      "    batch: 1000  loss: 0.06268480485414164\n",
      "    batch: 2000  loss: 0.05914687154583453\n",
      "    batch: 3000  loss: 0.06220359555133841\n",
      "    batch: 4000  loss: 0.0551311648956879\n",
      "    batch: 5000  loss: 0.05739253964498059\n",
      "    batch: 6000  loss: 0.0553563886854389\n",
      "LOSS train 0.0553563886854389 valid 0.039219219237565994\n",
      "EPOCH: 16\n",
      "    batch: 1000  loss: 0.04696683602410262\n",
      "    batch: 2000  loss: 0.05685728858092622\n",
      "    batch: 3000  loss: 0.06380967131849388\n",
      "    batch: 4000  loss: 0.051797675432104937\n",
      "    batch: 5000  loss: 0.053888679760295224\n",
      "    batch: 6000  loss: 0.0651414099089132\n",
      "LOSS train 0.0651414099089132 valid 0.038019951432943344\n",
      "EPOCH: 17\n",
      "    batch: 1000  loss: 0.048945240036634856\n",
      "    batch: 2000  loss: 0.053417194095710156\n",
      "    batch: 3000  loss: 0.06059024863677683\n",
      "    batch: 4000  loss: 0.06108901453574721\n",
      "    batch: 5000  loss: 0.054816641982496\n",
      "    batch: 6000  loss: 0.06127384077536817\n",
      "LOSS train 0.06127384077536817 valid 0.04381022974848747\n",
      "EPOCH: 18\n",
      "    batch: 1000  loss: 0.04388818679365612\n",
      "    batch: 2000  loss: 0.0623281847315472\n",
      "    batch: 3000  loss: 0.0621758644710721\n",
      "    batch: 4000  loss: 0.06496456384279949\n",
      "    batch: 5000  loss: 0.06594534793463808\n",
      "    batch: 6000  loss: 0.04731932350613803\n",
      "LOSS train 0.04731932350613803 valid 0.03586588799953461\n",
      "EPOCH: 19\n",
      "    batch: 1000  loss: 0.04915311080804163\n",
      "    batch: 2000  loss: 0.053671000152906004\n",
      "    batch: 3000  loss: 0.060787356401667325\n",
      "    batch: 4000  loss: 0.05872935365134913\n",
      "    batch: 5000  loss: 0.06393174482947538\n",
      "    batch: 6000  loss: 0.05907446354243233\n",
      "LOSS train 0.05907446354243233 valid 0.03412354737520218\n"
     ]
    }
   ],
   "source": [
    "num_epochs = 10\n",
    "best_vloss = 100000\n",
    "\n",
    "for i in range(num_epochs):\n",
    "    \n",
    "    print(\"EPOCH:\", epoch_num)\n",
    "    \n",
    "    # Train one epoch\n",
    "    train_loss = train_one_epoch(i, writer)\n",
    "    \n",
    "    # Calculate validation loss. Then plot vs training loss.\n",
    "    v_running_loss = 0.\n",
    "    digit_classifier.eval()\n",
    "    \n",
    "    with torch.no_grad():\n",
    "        for i, (v_x, v_y) in enumerate(val_dataloader):\n",
    "            v_x, v_y = v_x.to(device), v_y.to(device)\n",
    "            v_y_hat = digit_classifier(v_x)\n",
    "            v_running_loss += criterion(v_y_hat, v_y)\n",
    "        \n",
    "    avg_vloss = v_running_loss / len(val_dataloader)\n",
    "    \n",
    "    print('LOSS train {} valid {}'.format(train_loss, avg_vloss))\n",
    "    \n",
    "    digit_classifier.train()\n",
    "    writer.add_scalars('Training vs. Validation Loss',\n",
    "                      { 'Training' : train_loss, 'Validation' : avg_vloss },\n",
    "                      epoch_num * len(train_dataloader) + i)\n",
    "    writer.flush()\n",
    "    \n",
    "    # Save model if we have a better performance\n",
    "    if avg_vloss < best_vloss:\n",
    "        best_vloss = avg_vloss\n",
    "\n",
    "        model_path = 'saves/digit_classifier_{}_{}'.format(timestamp, epoch_num)\n",
    "        torch.save(digit_classifier.state_dict(), model_path)\n",
    "    \n",
    "    epoch_num += 1\n",
    "        \n",
    "        "
   ]
  },
  {
   "cell_type": "code",
   "execution_count": 20,
   "id": "d5021c8e",
   "metadata": {},
   "outputs": [],
   "source": [
    "# Converged around 9-10 epochs."
   ]
  },
  {
   "cell_type": "code",
   "execution_count": 21,
   "id": "e8105af9",
   "metadata": {},
   "outputs": [],
   "source": [
    "# Error analysis\n",
    "\n",
    "img_errors = torch.empty(0, dtype=torch.int64).to(device)\n",
    "true_labels = torch.empty(0, dtype=torch.int64).to(device)\n",
    "labels_errors = torch.empty(0, dtype=torch.int64).to(device)\n",
    "\n",
    "digit_classifier.eval()\n",
    "for i, (imgs, labels) in enumerate(val_dataloader):\n",
    "    imgs, labels = imgs.to(device), labels.to(device)\n",
    "    \n",
    "    pred = digit_classifier(imgs)\n",
    "    pred_labels = torch.argmax(pred, axis=1)\n",
    "    \n",
    "    img_errors = torch.cat((img_errors, imgs[labels != pred_labels]), 0)\n",
    "    true_labels = torch.cat((true_labels, labels[labels != pred_labels]), 0)\n",
    "    labels_errors = torch.cat((labels_errors, pred_labels[labels != pred_labels]), 0)\n",
    "\n"
   ]
  },
  {
   "cell_type": "code",
   "execution_count": 22,
   "id": "c120d53b",
   "metadata": {},
   "outputs": [
    {
     "name": "stdout",
     "output_type": "stream",
     "text": [
      "True\n",
      "96\n",
      "Val accuracy: 0.9232\n"
     ]
    }
   ],
   "source": [
    "print(true_labels.shape[0] == img_errors.shape[0])\n",
    "print(img_errors.shape[0])\n",
    "\n",
    "print(\"Val accuracy:\", 1 - img_errors.shape[0]/len(val_dataloader))"
   ]
  },
  {
   "cell_type": "code",
   "execution_count": 18,
   "id": "f30a67ea",
   "metadata": {},
   "outputs": [
    {
     "data": {
      "image/png": "[encoded data removed]",
      "text/plain": [
       "<Figure size 640x480 with 1 Axes>"
      ]
     },
     "metadata": {},
     "output_type": "display_data"
    }
   ],
   "source": [
    "batch_size = 8\n",
    "\n",
    "sample_indices = np.random.choice(range(true_labels.shape[0]), batch_size, replace=False)\n",
    "\n",
    "# Create a grid from the images and show them\n",
    "imgs = img_errors[sample_indices]\n",
    "true_label = true_labels[sample_indices]\n",
    "pred_labels = labels_errors[sample_indices]\n",
    "img_grid = torchvision.utils.make_grid(imgs)\n",
    "matplotlib_imshow(img_grid, \n",
    "                  str(true_label) + \"\\n\" + str(pred_labels))\n",
    "\n"
   ]
  },
  {
   "cell_type": "code",
   "execution_count": 14,
   "id": "77c86152",
   "metadata": {},
   "outputs": [
    {
     "data": {
      "text/plain": [
       "6250"
      ]
     },
     "execution_count": 14,
     "metadata": {},
     "output_type": "execute_result"
    }
   ],
   "source": [
    "len(train_dataloader)"
   ]
  },
  {
   "cell_type": "code",
   "execution_count": null,
   "id": "7ea5263e",
   "metadata": {},
   "outputs": [],
   "source": []
  },
  {
   "cell_type": "code",
   "execution_count": null,
   "id": "bb1e5632",
   "metadata": {},
   "outputs": [],
   "source": []
  },
  {
   "cell_type": "code",
   "execution_count": null,
   "id": "0dbaccda",
   "metadata": {},
   "outputs": [],
   "source": []
  }
 ],
 "metadata": {
  "kernelspec": {
   "display_name": "Python 3 (ipykernel)",
   "language": "python",
   "name": "python3"
  },
  "language_info": {
   "codemirror_mode": {
    "name": "ipython",
    "version": 3
   },
   "file_extension": ".py",
   "mimetype": "text/x-python",
   "name": "python",
   "nbconvert_exporter": "python",
   "pygments_lexer": "ipython3",
   "version": "3.11.5"
  }
 },
 "nbformat": 4,
 "nbformat_minor": 5
}
